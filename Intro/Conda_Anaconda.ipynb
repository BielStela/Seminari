{
 "cells": [
  {
   "cell_type": "markdown",
   "metadata": {},
   "source": [
    "# Conda... Anaconda... Python?"
   ]
  },
  {
   "cell_type": "markdown",
   "metadata": {},
   "source": [
    ">Anaconda® is a package manager, an environment manager, a Python distribution, and a collection of over 1,000+ open source packages. It is free and easy to install, and it offers free community support.\n",
    "\n",
    "https://docs.anaconda.com/anaconda/\n",
    "\n",
    "[Starter guide](https://docs.anaconda.com/_downloads/Anaconda_CheatSheet.pdf)"
   ]
  },
  {
   "cell_type": "markdown",
   "metadata": {},
   "source": [
    "Per instal·lar la distribució d'Anaconda aneu a:\n",
    "\n",
    "* https://www.anaconda.com/download\n",
    "\n",
    "Ara què podem fer amb el gestor d'environments i paquets de conda?\n",
    "\n",
    "### Environments\n",
    "\n",
    "Els environments són conjunts de paquests amb una versió de Python concreta.Serveixen per aïllar els diferents conjunts d'eines i evitar conflictes de versions i altres desastres.\n",
    "\n",
    "<div class='alert alert-success'>\n",
    "Crear environments és una **bona pràctica** per mantenir l'ordre de la nostra distribució de Python.\n",
    "</div>\n",
    "\n",
    "Per crear un environment amb el nom `datamassage` introduïm el següent comande al terminal:\n",
    "\n",
    "    conda create --name datamassage anaconda\n",
    "\n",
    "\n",
    "Un cop creat,  l'activem:\n",
    "\n",
    "    activate datamassage\n",
    "a Linux:\n",
    "    \n",
    "    source activate datamassage\n",
    "    \n",
    "Ara, tot el que funcioni amb Python ho farà amb les llibreries presents a datamassage.\n",
    "\n",
    "### Quines llibreries conté la distribució d'anaconda?\n",
    "\n",
    "Conté un conjunt bàsic (i no tan bàsic) de llibreries relacionades amb el tractament de dades. Una gran part d'aquestes llibreries són de la fundació NumFocus:\n",
    "\n",
    "<img src=\"numfocus.png\" alt=\"Alt text that describes the graphic\" title=\"Title text\" />\n",
    "\n",
    "Les més importants i que utilitzarem aquí són:\n",
    "\n",
    "### NumPy\n",
    "\n",
    "NumPy is the fundamental package for scientific computing with Python. It contains among other things:\n",
    "\n",
    "*    a powerful N-dimensional array object\n",
    "*   sophisticated (broadcasting) functions\n",
    "*   tools for integrating C/C++ and Fortran code\n",
    "*  useful linear algebra, Fourier transform, and random number capabilities\n",
    "\n",
    "http://www.numpy.org/\n",
    "\n",
    "\n",
    "### Pandas\n",
    "\n",
    "*pandas* is an open source, BSD-licensed library providing high-performance, easy-to-use data structures and data analysis tools for the Python programming language.\n",
    "http://pandas.pydata.org/\n"
   ]
  },
  {
   "cell_type": "code",
   "execution_count": null,
   "metadata": {
    "collapsed": true
   },
   "outputs": [],
   "source": []
  }
 ],
 "metadata": {
  "kernelspec": {
   "display_name": "Python 3",
   "language": "python",
   "name": "python3"
  },
  "language_info": {
   "codemirror_mode": {
    "name": "ipython",
    "version": 3
   },
   "file_extension": ".py",
   "mimetype": "text/x-python",
   "name": "python",
   "nbconvert_exporter": "python",
   "pygments_lexer": "ipython3",
   "version": "3.6.1"
  }
 },
 "nbformat": 4,
 "nbformat_minor": 2
}
